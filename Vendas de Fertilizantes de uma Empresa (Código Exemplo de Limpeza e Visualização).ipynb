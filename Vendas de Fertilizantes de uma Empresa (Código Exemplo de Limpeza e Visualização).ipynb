{
  "nbformat": 4,
  "nbformat_minor": 0,
  "metadata": {
    "colab": {
      "name": "Fertilizer Sales Data Cleaning and Visualization",
      "provenance": [],
      "mount_file_id": "1o6Zb8theqRGAtsaoOHsSXf4K-Q_niaaY",
      "authorship_tag": "ABX9TyPiTVCEflonRa9uKFYHintY",
      "include_colab_link": true
    },
    "kernelspec": {
      "name": "python3",
      "display_name": "Python 3"
    },
    "language_info": {
      "name": "python"
    }
  },
  "cells": [
    {
      "cell_type": "markdown",
      "metadata": {
        "id": "view-in-github",
        "colab_type": "text"
      },
      "source": [
        "<a href=\"https://colab.research.google.com/github/paulomrt/Python-DataProjects/blob/main/Vendas%20de%20Fertilizantes%20de%20uma%20Empresa%20(C%C3%B3digo%20Exemplo%20de%20Limpeza%20e%20Visualiza%C3%A7%C3%A3o).ipynb\" target=\"_parent\"><img src=\"https://colab.research.google.com/assets/colab-badge.svg\" alt=\"Open In Colab\"/></a>"
      ]
    },
    {
      "cell_type": "markdown",
      "source": [
        "# Análise da quantidade de fertilizantes vendidos no ano de 2021 de uma empresa\n",
        "\n",
        "Para fins de mostrar meu conhecimento utilizando python para o tratamento de dados, esse é um código que escrevi e utilizei \n",
        "para a recuperação e limpeza de dados de uma empresa em que trabalhei. \n",
        "\n",
        "Os pontos abordados nessa análise serão:\n",
        "\n",
        "*   Mostrar um gráfico do histórico de vendas dos fertilizantes mês a mês.\n",
        "*   Quais foram os fertilizantes mais vendidos durante o ano todo?\n",
        "*   Quais foram os fertilizantes mais vendidos em cada trimestre e sua média trimestral?\n",
        "*   Quais foram os 3 meses que mais venderam fertilizantes?\n",
        "\n",
        "Observação: **`Deixo claro que nenhum dado privado será mostrado, somente o código utilizado. `**"
      ],
      "metadata": {
        "id": "lzt3g5PGyay_"
      }
    },
    {
      "cell_type": "code",
      "source": [
        "import pandas as pd\n",
        "import os\n",
        "import plotly.express as px\n",
        "import plotly.graph_objects as go"
      ],
      "metadata": {
        "id": "mCPsbJ-VzazA"
      },
      "execution_count": null,
      "outputs": []
    },
    {
      "cell_type": "markdown",
      "source": [
        "## Importandos os dados\n",
        "Importação de todas as planilhas de cada mês do ano, sendo concatenadas em um único arquivo .csv chamado \"all_months\".\n",
        "\n",
        "Além disso, é feita a criação de uma coluna chamada \"Month\", no qual seus valores são os respectivos nomes de cada arquivo."
      ],
      "metadata": {
        "id": "zuUxlYTazhh2"
      }
    },
    {
      "cell_type": "code",
      "source": [
        "#@title\n",
        "# Criação de uma lista com o nome de cada arquivo dentro da pasta \"All_Months\"\n",
        "path = \"/content/drive/MyDrive/Colab_Notebooks/Data_Folder\"\n",
        "files = [file for file in os.listdir(path) if not file.startswith('.')]\n",
        "\n",
        "# Utilização de um loop for para criação de um dataframe e a concatenação de\n",
        "# de todos os arquivos em um só único.\n",
        "df = pd.DataFrame()\n",
        "\n",
        "for file in files:\n",
        "    current_data = pd.read_excel(path+\"/\"+file)\n",
        "    current_data['Mês'] = file\n",
        "    df = pd.concat([df, current_data])\n",
        "\n",
        "# Exportando esse novo dataframe como um arquivo .csv    \n",
        "df.to_csv(\n",
        "    \"/content/drive/MyDrive/Colab_Notebooks/Data_Folder/sales.csv\", \n",
        "    index=False)\n",
        "\n",
        "# Montagem do dataframe através desse arquivo .csv\n",
        "df = pd.read_csv(\n",
        "    \"/content/drive/MyDrive/Colab_Notebooks//sales.csv\")"
      ],
      "metadata": {
        "id": "XVDQYV0kzmoK"
      },
      "execution_count": null,
      "outputs": []
    },
    {
      "cell_type": "markdown",
      "source": [
        "## Limpeza e tratamento geral dos dados\n",
        "Nessa parte é feita a limpeza geral dos dados, seleção das colunas interessadas, remoção de NaN e outras linhas que não são dados de interesse da análise."
      ],
      "metadata": {
        "id": "R0SCiFDY9Txr"
      }
    },
    {
      "cell_type": "markdown",
      "source": [
        "### Splitando o valor .xls da coluna \"Mês\"\n",
        "Aqui estarei removendo somente a parte \".xls\" dos valores da coluna \"Mês\"."
      ],
      "metadata": {
        "id": "tBGs9XEoyeuY"
      }
    },
    {
      "cell_type": "code",
      "source": [
        "df[\"Mês\"] = df[\"Mês\"].str.replace(\".xls\", \"\")"
      ],
      "metadata": {
        "id": "EtMFdLplzAcE"
      },
      "execution_count": null,
      "outputs": []
    },
    {
      "cell_type": "markdown",
      "source": [
        "### Convertendo a coluna \"Mês\" do tipo string para datetime\n",
        "Simples converção de tipo de valor da coluna \"Month\", indo do tipo string para o tipo datetime."
      ],
      "metadata": {
        "id": "ZdCxN96P11tB"
      }
    },
    {
      "cell_type": "code",
      "source": [
        "df[\"Mês\"] =  pd.to_datetime(df[\"Mês\"], format='%B-%y')"
      ],
      "metadata": {
        "id": "in8Ae1WX3FnC"
      },
      "execution_count": null,
      "outputs": []
    },
    {
      "cell_type": "markdown",
      "source": [
        "### Seleção das colunas interessadas\n",
        "Aqui é feita a seleção apenas das colunas que nos interessa para a análise, sendo elas: **\"Unnamed: 0\"**,\t**\"Unnamed: 9\"**,\t**\"Unnamed: 10\"** e\t**\"Mês\"**\n"
      ],
      "metadata": {
        "id": "B8C7lZwH9nSe"
      }
    },
    {
      "cell_type": "code",
      "source": [
        "df = df[[\"Unnamed: 0\", \"Unnamed: 9\", \"Unnamed: 10\", \"Mês\"]]"
      ],
      "metadata": {
        "id": "hrN06sFs9TLm"
      },
      "execution_count": null,
      "outputs": []
    },
    {
      "cell_type": "markdown",
      "source": [
        "### Remoção de linhas que não começam com \"PA.\"\n",
        "Todos os valores da coluna \"Unnamed: 0\" que não começam com \"PA.\" são removidos do dataframe."
      ],
      "metadata": {
        "id": "YYg-ot77wprB"
      }
    },
    {
      "cell_type": "code",
      "source": [
        "df = df[all_months[\"Unnamed: 0\"].str.startswith(\"PA.\", na=False)]"
      ],
      "metadata": {
        "id": "1teFKkUzyT6K"
      },
      "execution_count": null,
      "outputs": []
    },
    {
      "cell_type": "markdown",
      "source": [
        "### Remoção de espaços e aplicação de \"upper\" na coluna \"Unnamed: 0\"\n",
        "Aqui é feito a remoção dos espaços entre os nomes dos produtos e o \"aumento\" das letras para que todas fiquem em caixa alta.\n"
      ],
      "metadata": {
        "id": "BgXTcMo02E4g"
      }
    },
    {
      "cell_type": "code",
      "source": [
        "df[\"Unnamed: 0\"] = df[\"Unnamed: 0\"].str.upper().str.replace(' ', '')"
      ],
      "metadata": {
        "id": "bb0lLjuisWJK"
      },
      "execution_count": null,
      "outputs": []
    },
    {
      "cell_type": "markdown",
      "source": [
        "### Renomear colunas\n",
        "Aqui é feito a renomeação das colunas \"Unnamed: 0,\tUnnamed: 9 e\tUnnamed: 10\""
      ],
      "metadata": {
        "id": "-kNOKdDy2E2U"
      }
    },
    {
      "cell_type": "code",
      "source": [
        "df = df.rename(columns={'Unnamed: 0': 'Produto',\n",
        "                                        'Unnamed: 9': 'Quantidade (L)',\n",
        "                                        'Unnamed: 10': 'Valor Total (R$)'})"
      ],
      "metadata": {
        "id": "N-vr7gyxuFQd"
      },
      "execution_count": null,
      "outputs": []
    },
    {
      "cell_type": "markdown",
      "source": [
        "### Conversão do tipo das colunas \"Quantidade (L)\" e \"Valor Total (R$)\"\n",
        "Realizada a conversão das colunas para o tipo numéricas (int e float)."
      ],
      "metadata": {
        "id": "DyI3k3mowOeD"
      }
    },
    {
      "cell_type": "code",
      "source": [
        "df[[\"Quantidade (L)\", \"Valor Total (R$)\"]] = df[[\"Quantidade (L)\", \"Valor Total (R$)\"]].apply(pd.to_numeric)\n",
        "df = all_months.reset_index(drop=True)"
      ],
      "metadata": {
        "id": "zEGReQ6Lvuor"
      },
      "execution_count": null,
      "outputs": []
    },
    {
      "cell_type": "markdown",
      "source": [
        "## Separação dos DataFrames para Análise\n",
        "\n"
      ],
      "metadata": {
        "id": "Q60K_lgfoeZO"
      }
    },
    {
      "cell_type": "markdown",
      "source": [
        "### Preparar o dataframe para análise da quantidade de fertilizantes mês a mês\n",
        "Remoção dos caracteres que separam cada um dos fertilizantes por embalagem utilizando Expressões Regulares.\n"
      ],
      "metadata": {
        "id": "LVw-Ls3fZY7n"
      }
    },
    {
      "cell_type": "code",
      "source": [
        "df[\"Produto\"] = df[\"Produto\"].str.extract(r\"^.*?\\.([^.]*)\\.\")"
      ],
      "metadata": {
        "id": "3w-1Ch3VZO_a"
      },
      "execution_count": null,
      "outputs": []
    },
    {
      "cell_type": "markdown",
      "source": [
        "### Agrupamento dos fertilizantes mês a mês e ordenar por suas quantidades totais\n",
        "Código que faz o agrupamento dos fertilizantes mês a mê em conjunto com uma função que faz seu ordenamento baseado na quantidade total, sendo do maior pro menor."
      ],
      "metadata": {
        "id": "_aOc6tCqBNKI"
      }
    },
    {
      "cell_type": "code",
      "source": [
        "# Agrupando por cada fertilizantes com seus respectivos meses\n",
        "gbdate_mtm = pd.DataFrame(df.groupby([\"Produto\", \"Mês\"])[\"Quantidade (L)\"].sum()).reset_index()\n",
        "gbdate_mtm"
      ],
      "metadata": {
        "id": "BE6Zm91hEDpJ"
      },
      "execution_count": null,
      "outputs": []
    },
    {
      "cell_type": "code",
      "source": [
        "# Agrupando por cada fertilizantes com seus respectivos meses\n",
        "gbdate_mtm = pd.DataFrame(mtm_all_months.groupby([\"Produto\", \"Mês\"])[\"Quantidade (L)\"].sum()).reset_index()\n",
        "\n",
        "# Criação de um novo dataframe colocando em ordem decrescente pela quantidade somada do ano inteiro\n",
        "df_products = pd.DataFrame(mtm_all_months.groupby([\"Produto\"])[\"Quantidade (L)\"].sum()).sort_values(\"Quantidade (L)\", ascending=False).reset_index()\n",
        "\n",
        "# Criação de uma array em ordem decrescente dos fertilizantes que mais foram vendidos\n",
        "products = df_products.head(10)['Produto'].unique()\n",
        "\n",
        "# Uma nova coluna no df \"gbdate_mtm\" mas somente com aqueles fertilizantes que estão na array \"products\"\n",
        "gbdate_mtm['Product_plot'] = gbdate_mtm['Produto'].apply(lambda x: x if x in products else None)\n",
        "\n",
        "# Retirando todos \"NaN\" e resetando o index do dataframe \"gbdate_mtm\"\n",
        "gbdate_mtm = gbdate_mtm[['Product_plot', 'Quantidade (L)', 'Mês']].dropna().reset_index(drop=True)"
      ],
      "metadata": {
        "id": "ZrmHUHCwKlZq"
      },
      "execution_count": null,
      "outputs": []
    },
    {
      "cell_type": "markdown",
      "source": [
        "## Plotagem do gráfico do histórico de fertilizantes e suas quantidades mensal\n",
        "Gráfico interativo em que mostra o histórico mensal de cada fertilizantes separados em subplots, junto com suas respectivas quantidades vendidas em cada mês. Gráfico feito utilizando o package \"Plotly\", o que possibilita uma interativade total e uma melhor visualização e análise dos resultados."
      ],
      "metadata": {
        "id": "na_7R013BzDc"
      }
    },
    {
      "cell_type": "code",
      "source": [
        "# Criação do gráfico de barras separados por cada fertilizante\n",
        "hist_mtm = px.bar(\n",
        "              gbdate_mtm, \n",
        "              x='Mês', \n",
        "              y='Quantidade (L)', \n",
        "              color='Product_plot',\n",
        "              #markers=True,\n",
        "              text_auto = '.2s',\n",
        "              # text='Quantidade (L)',\n",
        "              # barmode = 'group',\n",
        "              facet_col = 'Product_plot',\n",
        "              facet_col_wrap= 5,\n",
        "              facet_row_spacing = 0.25,\n",
        "              facet_col_spacing = 0.02,\n",
        "              #width = 2400,\n",
        "              #height = 900,\n",
        "              title='<b>Histórico mensal dos 10 fertilizantes mais vendidos em 2021</b>'\n",
        "              )\n",
        "\n",
        "\n",
        "\n",
        "# Configurações Gerais\n",
        "\n",
        "# Alteração do tamanho e alinhamento do título do gráfico\n",
        "hist_mtm.update_layout(title=dict(x=0.5, font=dict(size=24)))\n",
        "\n",
        "# Remoção da string \"Product_plot=\" do título de cada subplot\n",
        "hist_mtm.for_each_annotation(lambda a: a.update(text=a.text.replace(\"Product_plot=\", \"\")))\n",
        "\n",
        "# Define qual a localização do texto de cada barra\n",
        "#hist_mtm.update_traces(textposition='outside')\n",
        "\n",
        "\n",
        "\n",
        "# Configurações da legenda\n",
        "\n",
        "# Esconder a legenda do gráfico\n",
        "hist_mtm.update_traces(showlegend=False)\n",
        "hist_mtm.update(layout_showlegend=False)\n",
        "\n",
        "\n",
        "\n",
        "# Configurações do eixo x \n",
        "\n",
        "# Mudar o formato da data para somente o mês (%b)\n",
        "hist_mtm.update_xaxes(tickformat=\"%b\")\n",
        "\n",
        "# Mostrar os meses em todos subplots\n",
        "hist_mtm.update_xaxes(showticklabels=True)\n",
        "\n",
        "# Mostrar sempre cada um dos meses\n",
        "hist_mtm.update_xaxes(dtick=\"M1\")\n",
        "\n",
        "# Aumentar a distancia dos meses ao eixo x\n",
        "hist_mtm.update_xaxes(linewidth = 3)\n",
        "\n",
        "# Remoção do título do eixo x em cada subplot\n",
        "hist_mtm.for_each_xaxis(lambda x: x.update(title = ''))\n",
        "\n",
        "# Adiciona uma anotação que serve como o título do eixo x de todos subplots\n",
        "hist_mtm.add_annotation(\n",
        "            x=0.5,\n",
        "            y=-0.2,\n",
        "            font=dict(size=15),\n",
        "            showarrow=False,\n",
        "            text=\"<b>Meses</b>\",\n",
        "            textangle=-0,\n",
        "            xref=\"paper\",\n",
        "            yref=\"paper\")\n",
        "\n",
        "\n",
        "\n",
        "# Configurações do eixo y\n",
        "\n",
        "# Remoção do título do eixo y em cada subplot\n",
        "hist_mtm.for_each_yaxis(lambda y: y.update(title = ''))\n",
        "\n",
        "# Adiciona uma anotação que serve como o título do eixo y de todos subplots\n",
        "hist_mtm.add_annotation(\n",
        "            x= -0.06,\n",
        "            y= 0.5,\n",
        "            font=dict(size=15),\n",
        "            showarrow=False,\n",
        "            text=\"<b>Volume (L)</b>\",\n",
        "            textangle= -90,\n",
        "            xref=\"paper\",\n",
        "            yref=\"paper\")\n",
        "\n",
        "hist_mtm.show()"
      ],
      "metadata": {
        "id": "3pZtohy_qGaQ"
      },
      "execution_count": null,
      "outputs": []
    },
    {
      "cell_type": "markdown",
      "source": [
        "## Quantidade de fertilizantes vendidos durante o ano de 2021"
      ],
      "metadata": {
        "id": "Fu3DXhbZCVze"
      }
    },
    {
      "cell_type": "markdown",
      "source": [
        "### Criação do dataframe ordenado pelos fertilizantes mais vendidos no ano\n",
        "Dataframe criado somente com as colunas \"Produto\" e \"Quantidade (L)\" através do agrupamento de todos os produtos e a soma de suas quantidades."
      ],
      "metadata": {
        "id": "O6_eq0GJoJMn"
      }
    },
    {
      "cell_type": "code",
      "source": [
        "top_selling = pd.DataFrame(all_months.groupby([\"Produto\"])[\"Quantidade (L)\"].sum()).sort_values(\"Quantidade (L)\", ascending=False).reset_index()\n",
        "top_selling.head(10)"
      ],
      "metadata": {
        "id": "mVQosE6zm5Th"
      },
      "execution_count": null,
      "outputs": []
    },
    {
      "cell_type": "markdown",
      "source": [
        "### Gráfico da quantidade de fertilizantes vendidos em 2021"
      ],
      "metadata": {
        "id": "7gvHhPxwBqCp"
      }
    },
    {
      "cell_type": "code",
      "source": [
        "# Criação do gráfico de barras separados por cada fertilizante\n",
        "top_selling_graphic = px.bar(\n",
        "              top_selling, \n",
        "              x='Produto', \n",
        "              y='Quantidade (L)', \n",
        "              text_auto = '.2s',\n",
        "              title='<b>Quantidade de fertilizantes vendidos no ano de 2021</b>'\n",
        "              )\n",
        "\n",
        "# Alteração do tamanho e alinhamento do título do gráfico\n",
        "top_selling_graphic.update_layout(title=dict(x=0.5, font=dict(size=24)))\n",
        "\n",
        "top_selling_graphic.show()"
      ],
      "metadata": {
        "id": "M4Y8PlJ6o2vM"
      },
      "execution_count": null,
      "outputs": []
    },
    {
      "cell_type": "markdown",
      "source": [
        "## Fertilizantes vendidos no primeiro trimestre de 20021"
      ],
      "metadata": {
        "id": "18g_4B9hRoTc"
      }
    },
    {
      "cell_type": "markdown",
      "source": [
        "### Quantidade vendida de cada fertilizante mês a mês do primeiro trimestre"
      ],
      "metadata": {
        "id": "hdBLr8EEoVDc"
      }
    },
    {
      "cell_type": "code",
      "source": [
        "# Dataframe que mostra a quantidade de fertilizantes vendidos no primeiro trimestre\n",
        "df_first_quarter = mtm_all_months\n",
        "df_first_quarter = df_first_quarter[df_first_quarter[\"Mês\"].dt.quarter == 1].reset_index(drop = True)\n",
        "\n",
        "# Agrupar as quantidades vendidas em cada mês desse primeiro trimestre\n",
        "df_first_quarter = pd.DataFrame(df_first_quarter.groupby([\"Produto\", \"Mês\"])[\"Quantidade (L)\"].sum()).reset_index()"
      ],
      "metadata": {
        "id": "QAFY1upoRofr"
      },
      "execution_count": null,
      "outputs": []
    },
    {
      "cell_type": "code",
      "source": [
        "# Criação do gráfico de barras separados por cada fertilizante e suas respectivas\n",
        "# vendas em cada mês do primeiro trimestre\n",
        "first_quarter = px.bar(\n",
        "              df_first_quarter, \n",
        "              x='Mês', \n",
        "              y='Quantidade (L)', \n",
        "              color='Produto',\n",
        "              text_auto = '.2s',\n",
        "              facet_col = 'Produto',\n",
        "              facet_col_wrap= 6,\n",
        "              facet_row_spacing = 0.04,\n",
        "              facet_col_spacing = 0.02,\n",
        "              #width = 1200,\n",
        "              height = 2400,\n",
        "              title='<b>Vendas de fertilizantes mensal do primeiro trimestre de 2021</b>'\n",
        "              )\n",
        "\n",
        "\n",
        "\n",
        "# Configurações Gerais\n",
        "\n",
        "# Alteração do tamanho e alinhamento do título do gráfico\n",
        "first_quarter.update_layout(title=dict(x=0.5, font=dict(size=24)))\n",
        "\n",
        "# Remoção da string \"Product_plot=\" do título de cada subplot\n",
        "first_quarter.for_each_annotation(lambda a: a.update(text=a.text.replace(\"Produto=\", \"\")))\n",
        "\n",
        "# Define qual a localização do texto de cada barra\n",
        "#first_quarter.update_traces(textposition='outside')\n",
        "\n",
        "\n",
        "\n",
        "# Configurações da legenda\n",
        "\n",
        "# Esconder a legenda do gráfico\n",
        "first_quarter.update_traces(showlegend=False)\n",
        "first_quarter.update(layout_showlegend=False)\n",
        "\n",
        "\n",
        "\n",
        "# Configurações do eixo x \n",
        "\n",
        "# Mudar o formato da data para somente o mês (%b)\n",
        "first_quarter.update_xaxes(tickformat=\"%b\")\n",
        "\n",
        "# Mostrar os meses em todos subplots\n",
        "first_quarter.update_xaxes(showticklabels=True)\n",
        "\n",
        "# Mostrar sempre cada um dos meses\n",
        "first_quarter.update_xaxes(dtick=\"M1\")\n",
        "\n",
        "# Aumentar a distancia dos meses ao eixo x\n",
        "first_quarter.update_xaxes(linewidth = 3)\n",
        "\n",
        "# Remoção do título do eixo x em cada subplot\n",
        "first_quarter.for_each_xaxis(lambda x: x.update(title = ''))\n",
        "\n",
        "\n",
        "\n",
        "# Configurações do eixo y\n",
        "\n",
        "# Remoção do título do eixo y em cada subplot\n",
        "first_quarter.for_each_yaxis(lambda y: y.update(title = ''))\n",
        "\n",
        "first_quarter.show()"
      ],
      "metadata": {
        "id": "cw-xCopvWNvU"
      },
      "execution_count": null,
      "outputs": []
    },
    {
      "cell_type": "markdown",
      "source": [
        "### Média e soma de cada fertilizante vendido no primeiro trimestre\n",
        "Criação de dois novos dataframes em que mostram as quantidades somadas de cada fertilizante vendido no primeiro trimestre e também a média de cada um deles."
      ],
      "metadata": {
        "id": "dTXDiZ4Ro0s5"
      }
    },
    {
      "cell_type": "code",
      "source": [
        "# Dataframe que mostra a quantidade vendida total de cada fertilizante no\n",
        "# primeiro trimestre\n",
        "df_first_quarter_sum = pd.DataFrame(df_first_quarter.groupby(\"Produto\")[\"Quantidade (L)\"].sum()).round()\n",
        "df_first_quarter_sum = df_first_quarter_sum.sort_values(\"Quantidade (L)\", ascending = False).reset_index()\n",
        "df_first_quarter_sum.head(10)"
      ],
      "metadata": {
        "id": "DBU6IS_bjD82"
      },
      "execution_count": null,
      "outputs": []
    },
    {
      "cell_type": "code",
      "source": [
        "# Criação do gráfico de barras separados por cada fertilizante\n",
        "first_quarter_sum_graphic = px.bar(\n",
        "              df_first_quarter_sum, \n",
        "              x='Produto', \n",
        "              y='Quantidade (L)', \n",
        "              text_auto = '.2s',\n",
        "              title='<b>Fertilizantes vendidos no primeiro trimestre de 2021</b>'\n",
        "              )\n",
        "\n",
        "# Alteração do tamanho e alinhamento do título do gráfico\n",
        "first_quarter_sum_graphic.update_layout(title=dict(x=0.5, font=dict(size=24)))\n",
        "\n",
        "first_quarter_sum_graphic.show()"
      ],
      "metadata": {
        "id": "vsoZJ9O912FT"
      },
      "execution_count": null,
      "outputs": []
    },
    {
      "cell_type": "code",
      "source": [
        "# Dataframe que mostra a média mensal vendida de cada fertilizante no\n",
        "# primeiro trimestre\n",
        "df_first_quarter_avg = pd.DataFrame(df_first_quarter.groupby(\"Produto\")[\"Quantidade (L)\"].mean()).round()\n",
        "df_first_quarter_avg = df_first_quarter_avg.sort_values(\"Quantidade (L)\", ascending = False).reset_index()\n",
        "df_first_quarter_avg.head(10)"
      ],
      "metadata": {
        "id": "73BDCQruZZ6m"
      },
      "execution_count": null,
      "outputs": []
    },
    {
      "cell_type": "markdown",
      "source": [
        "## Fertilizantes vendidos no segundo trimestre de 20021"
      ],
      "metadata": {
        "id": "xrsTbDciBWht"
      }
    },
    {
      "cell_type": "code",
      "source": [
        "# Dataframe que mostra a quantidade de fertilizantes vendidos no primeiro trimestre\n",
        "df_second_quarter = mtm_all_months\n",
        "df_second_quarter = df_second_quarter[df_second_quarter[\"Mês\"].dt.quarter == 2].reset_index(drop = True)\n",
        "\n",
        "# Agrupar as quantidades vendidas em cada mês desse primeiro trimestre\n",
        "df_second_quarter = pd.DataFrame(df_second_quarter.groupby([\"Produto\", \"Mês\"])[\"Quantidade (L)\"].sum()).reset_index()"
      ],
      "metadata": {
        "id": "WxarTt8zC6l0"
      },
      "execution_count": null,
      "outputs": []
    },
    {
      "cell_type": "code",
      "source": [
        "# Criação do gráfico de barras separados por cada fertilizante e suas respectivas\n",
        "# vendas em cada mês do primeiro trimestre\n",
        "second_quarter = px.bar(\n",
        "              df_second_quarter, \n",
        "              x='Mês', \n",
        "              y='Quantidade (L)', \n",
        "              color='Produto',\n",
        "              text_auto = '.2s',\n",
        "              facet_col = 'Produto',\n",
        "              facet_col_wrap= 6,\n",
        "              facet_row_spacing = 0.04,\n",
        "              facet_col_spacing = 0.02,\n",
        "              #width = 1200,\n",
        "              height = 2400,\n",
        "              title='<b>Vendas de fertilizantes mensal do segundo trimestre de 2021</b>'\n",
        "              )\n",
        "\n",
        "\n",
        "\n",
        "# Configurações Gerais\n",
        "\n",
        "# Alteração do tamanho e alinhamento do título do gráfico\n",
        "second_quarter.update_layout(title=dict(x=0.5, font=dict(size=24)))\n",
        "\n",
        "# Remoção da string \"Product_plot=\" do título de cada subplot\n",
        "second_quarter.for_each_annotation(lambda a: a.update(text=a.text.replace(\"Produto=\", \"\")))\n",
        "\n",
        "# Define qual a localização do texto de cada barra\n",
        "#second_quarter.update_traces(textposition='outside')\n",
        "\n",
        "\n",
        "\n",
        "# Configurações da legenda\n",
        "\n",
        "# Esconder a legenda do gráfico\n",
        "second_quarter.update_traces(showlegend=False)\n",
        "second_quarter.update(layout_showlegend=False)\n",
        "\n",
        "\n",
        "\n",
        "# Configurações do eixo x \n",
        "\n",
        "# Mudar o formato da data para somente o mês (%b)\n",
        "second_quarter.update_xaxes(tickformat=\"%b\")\n",
        "\n",
        "# Mostrar os meses em todos subplots\n",
        "second_quarter.update_xaxes(showticklabels=True)\n",
        "\n",
        "# Mostrar sempre cada um dos meses\n",
        "second_quarter.update_xaxes(dtick=\"M1\")\n",
        "\n",
        "# Aumentar a distancia dos meses ao eixo x\n",
        "second_quarter.update_xaxes(linewidth = 3)\n",
        "\n",
        "# Remoção do título do eixo x em cada subplot\n",
        "second_quarter.for_each_xaxis(lambda x: x.update(title = ''))\n",
        "\n",
        "\n",
        "\n",
        "# Configurações do eixo y\n",
        "\n",
        "# Remoção do título do eixo y em cada subplot\n",
        "second_quarter.for_each_yaxis(lambda y: y.update(title = ''))\n",
        "\n",
        "second_quarter.show()"
      ],
      "metadata": {
        "id": "ljh0xD8MEgty"
      },
      "execution_count": null,
      "outputs": []
    },
    {
      "cell_type": "markdown",
      "source": [
        "### Média e soma de cada fertilizante vendido no segundo trimestre\n",
        "Criação de dois novos dataframes em que mostram as quantidades somadas de cada fertilizante vendido no segundo trimestre e também a média de cada um deles."
      ],
      "metadata": {
        "id": "8o28mFiPJ0Gl"
      }
    },
    {
      "cell_type": "code",
      "source": [
        "# Dataframe que mostra a quantidade vendida total de cada fertilizante no\n",
        "# segundo trimestre\n",
        "df_second_quarter_sum = pd.DataFrame(df_second_quarter.groupby(\"Produto\")[\"Quantidade (L)\"].sum()).round()\n",
        "df_second_quarter_sum = df_second_quarter_sum.sort_values(\"Quantidade (L)\", ascending = False).reset_index()\n",
        "df_second_quarter_sum.head(10)"
      ],
      "metadata": {
        "id": "2704oDcMJ-_q"
      },
      "execution_count": null,
      "outputs": []
    },
    {
      "cell_type": "code",
      "source": [
        "# Criação do gráfico de barras separados por cada fertilizante\n",
        "second_quarter_sum_graphic = px.bar(\n",
        "              df_second_quarter_sum, \n",
        "              x='Produto', \n",
        "              y='Quantidade (L)', \n",
        "              text_auto = '.2s',\n",
        "              title='<b>Fertilizantes vendidos no segundo trimestre de 2021</b>'\n",
        "              )\n",
        "\n",
        "# Alteração do tamanho e alinhamento do título do gráfico\n",
        "second_quarter_sum_graphic.update_layout(title=dict(x=0.5, font=dict(size=24)))\n",
        "\n",
        "second_quarter_sum_graphic.show()"
      ],
      "metadata": {
        "id": "bncMwGJVKNfX"
      },
      "execution_count": null,
      "outputs": []
    },
    {
      "cell_type": "code",
      "source": [
        "# Dataframe que mostra a média mensal vendida de cada fertilizante no\n",
        "# segundo trimestre\n",
        "df_second_quarter_avg = pd.DataFrame(df_second_quarter.groupby(\"Produto\")[\"Quantidade (L)\"].mean()).round()\n",
        "df_second_quarter_avg = df_second_quarter_avg.sort_values(\"Quantidade (L)\", ascending = False).reset_index()\n",
        "df_second_quarter_avg.head(10)"
      ],
      "metadata": {
        "id": "_Vt2eUDFnyY7"
      },
      "execution_count": null,
      "outputs": []
    },
    {
      "cell_type": "markdown",
      "source": [
        "## Fertilizantes vendidos no terceiro trimestre de 20021"
      ],
      "metadata": {
        "id": "bnXtLnqF03uF"
      }
    },
    {
      "cell_type": "code",
      "source": [
        "# Dataframe que mostra a quantidade de fertilizantes vendidos no primeiro trimestre\n",
        "df_third_quarter = mtm_all_months\n",
        "df_third_quarter = df_third_quarter[df_third_quarter[\"Mês\"].dt.quarter == 3].reset_index(drop = True)\n",
        "\n",
        "# Agrupar as quantidades vendidas em cada mês desse primeiro trimestre\n",
        "df_third_quarter = pd.DataFrame(df_third_quarter.groupby([\"Produto\", \"Mês\"])[\"Quantidade (L)\"].sum()).reset_index()"
      ],
      "metadata": {
        "id": "gN9RDaRP1AJf"
      },
      "execution_count": null,
      "outputs": []
    },
    {
      "cell_type": "code",
      "source": [
        "# Criação do gráfico de barras separados por cada fertilizante e suas respectivas\n",
        "# vendas em cada mês do primeiro trimestre\n",
        "third_quarter = px.bar(\n",
        "              df_third_quarter, \n",
        "              x='Mês', \n",
        "              y='Quantidade (L)', \n",
        "              color='Produto',\n",
        "              text_auto = '.2s',\n",
        "              facet_col = 'Produto',\n",
        "              facet_col_wrap= 6,\n",
        "              facet_row_spacing = 0.04,\n",
        "              facet_col_spacing = 0.02,\n",
        "              #width = 1200,\n",
        "              height = 2400,\n",
        "              title='<b>Vendas de fertilizantes mensal do terceiro trimestre de 2021</b>'\n",
        "              )\n",
        "\n",
        "\n",
        "\n",
        "# Configurações Gerais\n",
        "\n",
        "# Alteração do tamanho e alinhamento do título do gráfico\n",
        "third_quarter.update_layout(title=dict(x=0.5, font=dict(size=24)))\n",
        "\n",
        "# Remoção da string \"Product_plot=\" do título de cada subplot\n",
        "third_quarter.for_each_annotation(lambda a: a.update(text=a.text.replace(\"Produto=\", \"\")))\n",
        "\n",
        "# Define qual a localização do texto de cada barra\n",
        "#second_quarter.update_traces(textposition='outside')\n",
        "\n",
        "\n",
        "\n",
        "# Configurações da legenda\n",
        "\n",
        "# Esconder a legenda do gráfico\n",
        "third_quarter.update_traces(showlegend=False)\n",
        "third_quarter.update(layout_showlegend=False)\n",
        "\n",
        "\n",
        "\n",
        "# Configurações do eixo x \n",
        "\n",
        "# Mudar o formato da data para somente o mês (%b)\n",
        "third_quarter.update_xaxes(tickformat=\"%b\")\n",
        "\n",
        "# Mostrar os meses em todos subplots\n",
        "third_quarter.update_xaxes(showticklabels=True)\n",
        "\n",
        "# Mostrar sempre cada um dos meses\n",
        "third_quarter.update_xaxes(dtick=\"M1\")\n",
        "\n",
        "# Aumentar a distancia dos meses ao eixo x\n",
        "third_quarter.update_xaxes(linewidth = 3)\n",
        "\n",
        "# Remoção do título do eixo x em cada subplot\n",
        "third_quarter.for_each_xaxis(lambda x: x.update(title = ''))\n",
        "\n",
        "\n",
        "\n",
        "# Configurações do eixo y\n",
        "\n",
        "# Remoção do título do eixo y em cada subplot\n",
        "third_quarter.for_each_yaxis(lambda y: y.update(title = ''))\n",
        "\n",
        "third_quarter.show()"
      ],
      "metadata": {
        "id": "vpdBMyz-1Hks"
      },
      "execution_count": null,
      "outputs": []
    },
    {
      "cell_type": "markdown",
      "source": [
        "### Média e soma de cada fertilizante vendido no terceiro trimestre\n",
        "Criação de dois novos dataframes em que mostram as quantidades somadas de cada fertilizante vendido no terceiro trimestre e também a média de cada um deles."
      ],
      "metadata": {
        "id": "Lmth_HVh7FrZ"
      }
    },
    {
      "cell_type": "code",
      "source": [
        "# Dataframe que mostra a quantidade vendida total de cada fertilizante no\n",
        "# terceiro trimestre\n",
        "df_third_quarter_sum = pd.DataFrame(df_third_quarter.groupby(\"Produto\")[\"Quantidade (L)\"].sum()).round()\n",
        "df_third_quarter_sum = df_third_quarter_sum.sort_values(\"Quantidade (L)\", ascending = False).reset_index()\n",
        "df_third_quarter_sum.head(10)"
      ],
      "metadata": {
        "id": "51cOUt7q7N_n"
      },
      "execution_count": null,
      "outputs": []
    },
    {
      "cell_type": "code",
      "source": [
        "# Criação do gráfico de barras separados por cada fertilizante\n",
        "third_quarter_sum_graphic = px.bar(\n",
        "              df_third_quarter_sum, \n",
        "              x='Produto', \n",
        "              y='Quantidade (L)', \n",
        "              text_auto = '.2s',\n",
        "              title='<b>Fertilizantes vendidos no terceiro trimestre de 2021</b>'\n",
        "              )\n",
        "\n",
        "# Alteração do tamanho e alinhamento do título do gráfico\n",
        "third_quarter_sum_graphic.update_layout(title=dict(x=0.5, font=dict(size=24)))\n",
        "\n",
        "third_quarter_sum_graphic.show()"
      ],
      "metadata": {
        "id": "JB_NVs997SLD"
      },
      "execution_count": null,
      "outputs": []
    },
    {
      "cell_type": "code",
      "source": [
        "# Dataframe que mostra a média mensal vendida de cada fertilizante no\n",
        "# terceiro trimestre\n",
        "df_third_quarter_avg = pd.DataFrame(df_third_quarter.groupby(\"Produto\")[\"Quantidade (L)\"].mean()).round()\n",
        "df_third_quarter_avg = df_third_quarter_avg.sort_values(\"Quantidade (L)\", ascending = False).reset_index()\n",
        "df_third_quarter_avg.head(10)"
      ],
      "metadata": {
        "id": "rbA7a19B7Wf0"
      },
      "execution_count": null,
      "outputs": []
    },
    {
      "cell_type": "markdown",
      "source": [
        "## Fertilizantes vendidos no quarto trimestre de 20021"
      ],
      "metadata": {
        "id": "oT_n3i46-9SD"
      }
    },
    {
      "cell_type": "code",
      "source": [
        "# Dataframe que mostra a quantidade de fertilizantes vendidos no quarto trimestre\n",
        "df_fourth_quarter = mtm_all_months\n",
        "df_fourth_quarter = df_fourth_quarter[df_fourth_quarter[\"Mês\"].dt.quarter == 4].reset_index(drop = True)\n",
        "\n",
        "# Agrupar as quantidades vendidas em cada mês desse primeiro trimestre\n",
        "df_fourth_quarter = pd.DataFrame(df_fourth_quarter.groupby([\"Produto\", \"Mês\"])[\"Quantidade (L)\"].sum()).reset_index()"
      ],
      "metadata": {
        "id": "JpMmRTIW-9SE"
      },
      "execution_count": null,
      "outputs": []
    },
    {
      "cell_type": "code",
      "source": [
        "# Criação do gráfico de barras separados por cada fertilizante e suas respectivas\n",
        "# vendas em cada mês do primeiro trimestre\n",
        "fourth_quarter = px.bar(\n",
        "              df_fourth_quarter, \n",
        "              x='Mês', \n",
        "              y='Quantidade (L)', \n",
        "              color='Produto',\n",
        "              text_auto = '.2s',\n",
        "              facet_col = 'Produto',\n",
        "              facet_col_wrap= 6,\n",
        "              facet_row_spacing = 0.04,\n",
        "              facet_col_spacing = 0.02,\n",
        "              #width = 1200,\n",
        "              height = 2400,\n",
        "              title='<b>Vendas de fertilizantes mensal do quarto trimestre de 2021</b>'\n",
        "              )\n",
        "\n",
        "\n",
        "\n",
        "# Configurações Gerais\n",
        "\n",
        "# Alteração do tamanho e alinhamento do título do gráfico\n",
        "fourth_quarter.update_layout(title=dict(x=0.5, font=dict(size=24)))\n",
        "\n",
        "# Remoção da string \"Product_plot=\" do título de cada subplot\n",
        "fourth_quarter.for_each_annotation(lambda a: a.update(text=a.text.replace(\"Produto=\", \"\")))\n",
        "\n",
        "# Define qual a localização do texto de cada barra\n",
        "#second_quarter.update_traces(textposition='outside')\n",
        "\n",
        "\n",
        "\n",
        "# Configurações da legenda\n",
        "\n",
        "# Esconder a legenda do gráfico\n",
        "fourth_quarter.update_traces(showlegend=False)\n",
        "fourth_quarter.update(layout_showlegend=False)\n",
        "\n",
        "\n",
        "\n",
        "# Configurações do eixo x \n",
        "\n",
        "# Mudar o formato da data para somente o mês (%b)\n",
        "fourth_quarter.update_xaxes(tickformat=\"%b\")\n",
        "\n",
        "# Mostrar os meses em todos subplots\n",
        "fourth_quarter.update_xaxes(showticklabels=True)\n",
        "\n",
        "# Mostrar sempre cada um dos meses\n",
        "fourth_quarter.update_xaxes(dtick=\"M1\")\n",
        "\n",
        "# Aumentar a distancia dos meses ao eixo x\n",
        "fourth_quarter.update_xaxes(linewidth = 3)\n",
        "\n",
        "# Remoção do título do eixo x em cada subplot\n",
        "fourth_quarter.for_each_xaxis(lambda x: x.update(title = ''))\n",
        "\n",
        "\n",
        "\n",
        "# Configurações do eixo y\n",
        "\n",
        "# Remoção do título do eixo y em cada subplot\n",
        "fourth_quarter.for_each_yaxis(lambda y: y.update(title = ''))\n",
        "\n",
        "fourth_quarter.show()"
      ],
      "metadata": {
        "id": "-m9lbYHF-9SE"
      },
      "execution_count": null,
      "outputs": []
    },
    {
      "cell_type": "markdown",
      "source": [
        "### Média e soma de cada fertilizante vendido no quarto trimestre\n",
        "Criação de dois novos dataframes em que mostram as quantidades somadas de cada fertilizante vendido no quarto trimestre e também a média de cada um deles."
      ],
      "metadata": {
        "id": "xsgPhPZ5CynD"
      }
    },
    {
      "cell_type": "code",
      "source": [
        "# Dataframe que mostra a quantidade vendida total de cada fertilizante no\n",
        "# quarto trimestre\n",
        "df_fourth_quarter_sum = pd.DataFrame(df_fourth_quarter.groupby(\"Produto\")[\"Quantidade (L)\"].sum()).round()\n",
        "df_fourth_quarter_sum = df_fourth_quarter_sum.sort_values(\"Quantidade (L)\", ascending = False).reset_index()\n",
        "df_fourth_quarter_sum.head(10)"
      ],
      "metadata": {
        "id": "mICee9RdCynD"
      },
      "execution_count": null,
      "outputs": []
    },
    {
      "cell_type": "code",
      "source": [
        "# Criação do gráfico de barras separados por cada fertilizante\n",
        "fourth_quarter_sum_graphic = px.bar(\n",
        "              df_fourth_quarter_sum, \n",
        "              x='Produto', \n",
        "              y='Quantidade (L)', \n",
        "              text_auto = '.2s',\n",
        "              title='<b>Fertilizantes vendidos no quarto trimestre de 2021</b>'\n",
        "              )\n",
        "\n",
        "# Alteração do tamanho e alinhamento do título do gráfico\n",
        "fourth_quarter_sum_graphic.update_layout(title=dict(x=0.5, font=dict(size=24)))\n",
        "\n",
        "fourth_quarter_sum_graphic.show()"
      ],
      "metadata": {
        "id": "2P1McXd9CynE"
      },
      "execution_count": null,
      "outputs": []
    },
    {
      "cell_type": "code",
      "source": [
        "# Dataframe que mostra a média mensal vendida de cada fertilizante no\n",
        "# quarto trimestre\n",
        "df_fourth_quarter_avg = pd.DataFrame(df_fourth_quarter.groupby(\"Produto\")[\"Quantidade (L)\"].mean()).round(0)\n",
        "df_fourth_quarter_avg = df_fourth_quarter_avg.sort_values(\"Quantidade (L)\", ascending = False).reset_index()\n",
        "df_fourth_quarter_avg.head(10)"
      ],
      "metadata": {
        "id": "qbOLHjkoCynE"
      },
      "execution_count": null,
      "outputs": []
    }
  ]
}